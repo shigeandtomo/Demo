{
 "cells": [
  {
   "cell_type": "markdown",
   "metadata": {},
   "source": [
    "# Demo: OpenMX and DeePMD-kit\n",
    "\n",
    "DeePMD-kit is a software to implement Deep Potential. Here, I will try to demonstrate Interface from OpenMX to DeePMD-kit.\n",
    "\n",
    "Regardless of which DFT calculation software is used, the information shown below must be transmitted to the DeePMD-kit side.\n",
    "\n",
    "<div style=\"text-align: center;\">【Available properties are (nframe: number of frames in the system, natoms: total number of atoms in the system)】</div>\n",
    "\n",
    "| key          | type        | dimension            | are labels | description                           |\n",
    "|--------------|-------------|----------------------|------------|---------------------------------------|\n",
    "| 'atom_names' | list of str | ntypes               | False      | The name of each atom type            |\n",
    "| 'atom_numbs' | list of int | ntypes               | False      | The number of atoms of each atom type |\n",
    "| 'atom_types' | np.ndarray  | natoms               | False      | Array assigning type to each atom     |\n",
    "| 'cells'      | np.ndarray  | nframes x 3 x 3      | False      | The cell tensor of each frame         |\n",
    "| 'coords'     | np.ndarray  | nframes x natoms x 3 | False      | The atom coordinates                  |\n",
    "| 'energies'   | np.ndarray  | nframes              | True       | The frame energies                    |\n",
    "| 'forces'     | np.ndarray  | nframes x natoms x 3 | True       | The atom forces                       |\n",
    "| 'virials'    | np.ndarray  | nframes x 3 x 3      | True       | The virial tensor of each frame       |\n",
    "\n",
    "For more details, please check [dpdata repository](https://github.com/deepmodeling/dpdata/tree/master)."
   ]
  },
  {
   "cell_type": "markdown",
   "metadata": {},
   "source": [
    "Assuming that \"tensorflow\" and \"deepmd-kit\" is pre-installed. "
   ]
  },
  {
   "cell_type": "code",
   "execution_count": null,
   "metadata": {},
   "outputs": [],
   "source": [
    "# pip install tensorflow\n",
    "# pip install deepmd-kit"
   ]
  },
  {
   "cell_type": "markdown",
   "metadata": {},
   "source": [
    "## How to apply for OpenMX format\n",
    "\n",
    "To prepare minimum required, place the original `dpdata` on current directory, and make a file `openmx.py` and a folder named `openmx` in the appropriate location."
   ]
  },
  {
   "cell_type": "code",
   "execution_count": null,
   "metadata": {},
   "outputs": [],
   "source": [
    "! tree dpdata/openmx"
   ]
  },
  {
   "cell_type": "markdown",
   "metadata": {},
   "source": [
    "```\n",
    "openmx\n",
    "├── __init__.py\n",
    "├── __pycache__\n",
    "│   ├── __init__.cpython-311.pyc\n",
    "│   └── omx.cpython-311.pyc\n",
    "└── omx.py\n",
    "\n",
    "2 directories, 4 files\n",
    "\n",
    "```\n",
    "is correct."
   ]
  },
  {
   "cell_type": "code",
   "execution_count": null,
   "metadata": {},
   "outputs": [],
   "source": [
    "! tree dpdata/plugins"
   ]
  },
  {
   "cell_type": "markdown",
   "metadata": {},
   "source": [
    "```\n",
    "plugins\n",
    "├── 3dmol.py\n",
    "├── __init__.py\n",
    "├── __pycache__\n",
    "│   ├── 3dmol.cpython-311.pyc\n",
    "│   ├── __init__.cpython-311.pyc\n",
    "│   ├── abacus.cpython-311.pyc\n",
    "│   ├── amber.cpython-311.pyc\n",
    "│   ├── ase.cpython-311.pyc\n",
    "│   ├── cp2k.cpython-311.pyc\n",
    "│   ├── deepmd.cpython-311.pyc\n",
    "│   ├── dftbplus.cpython-311.pyc\n",
    "│   ├── fhi_aims.cpython-311.pyc\n",
    "│   ├── gaussian.cpython-311.pyc\n",
    "│   ├── gromacs.cpython-311.pyc\n",
    "│   ├── lammps.cpython-311.pyc\n",
    "│   ├── list.cpython-311.pyc\n",
    "│   ├── openmx.cpython-311.pyc\n",
    "│   ├── psi4.cpython-311.pyc\n",
    "│   ├── pwmat.cpython-311.pyc\n",
    "│   ├── pymatgen.cpython-311.pyc\n",
    "│   ├── qe.cpython-311.pyc\n",
    "│   ├── rdkit.cpython-311.pyc\n",
    "│   ├── siesta.cpython-311.pyc\n",
    "│   ├── vasp.cpython-311.pyc\n",
    "│   └── xyz.cpython-311.pyc\n",
    "├── abacus.py\n",
    "├── amber.py\n",
    "├── ase.py\n",
    "├── cp2k.py\n",
    "├── deepmd.py\n",
    "├── dftbplus.py\n",
    "├── fhi_aims.py\n",
    "├── gaussian.py\n",
    "├── gromacs.py\n",
    "├── lammps.py\n",
    "├── list.py\n",
    "├── openmx.py\n",
    "├── psi4.py\n",
    "├── pwmat.py\n",
    "├── pymatgen.py\n",
    "├── qe.py\n",
    "├── rdkit.py\n",
    "├── siesta.py\n",
    "├── vasp.py\n",
    "└── xyz.py\n",
    "\n",
    "2 directories, 44 files\n",
    "```\n",
    "is correct."
   ]
  },
  {
   "cell_type": "markdown",
   "metadata": {},
   "source": [
    "## How to prepare from command line"
   ]
  },
  {
   "cell_type": "markdown",
   "metadata": {},
   "source": [
    "Please download sample files."
   ]
  },
  {
   "cell_type": "code",
   "execution_count": null,
   "metadata": {},
   "outputs": [],
   "source": [
    "# ! git clone https://github.com/shigeandtomo/Demo work"
   ]
  },
  {
   "cell_type": "code",
   "execution_count": null,
   "metadata": {},
   "outputs": [],
   "source": [
    "! ls"
   ]
  },
  {
   "cell_type": "markdown",
   "metadata": {},
   "source": [
    "### sample files description\n",
    "\n",
    "1. `00.data` CH4 with ABACUS (, CP2K, or VASP)\n",
    "1. `10.data` CH4 with OpenMX\n",
    "1. `20.data` H2O with OpenMX\n",
    "\n",
    "Each folder named `train` contains `input.json`, deepmd-kit input script."
   ]
  },
  {
   "cell_type": "code",
   "execution_count": null,
   "metadata": {},
   "outputs": [],
   "source": [
    "# import os\n",
    "# os.chdir(\"work\")"
   ]
  },
  {
   "cell_type": "code",
   "execution_count": null,
   "metadata": {},
   "outputs": [],
   "source": [
    "# ! git clone https://github.com/deepmodeling/dpdata tmp"
   ]
  },
  {
   "cell_type": "code",
   "execution_count": null,
   "metadata": {},
   "outputs": [],
   "source": [
    "# ! cp -r tmp/dpdata ."
   ]
  },
  {
   "cell_type": "code",
   "execution_count": null,
   "metadata": {},
   "outputs": [],
   "source": [
    "! cp -r openmx dpdata/\n",
    "! cp openmx.py dpdata/plugins/"
   ]
  },
  {
   "cell_type": "markdown",
   "metadata": {},
   "source": [
    "## Import libraries"
   ]
  },
  {
   "cell_type": "markdown",
   "metadata": {},
   "source": [
    "Now, we can use deepmd with OpenMX. Then, import following libraries."
   ]
  },
  {
   "cell_type": "code",
   "execution_count": null,
   "metadata": {},
   "outputs": [],
   "source": [
    "import os\n",
    "import dpdata\n",
    "import numpy as np\n",
    "import matplotlib.pyplot as plt\n",
    "import pandas as pd\n",
    "\n",
    "ang2bohr = 1.88972612463\n",
    "bohr2ang = 0.529177210903"
   ]
  },
  {
   "cell_type": "markdown",
   "metadata": {},
   "source": [
    "#### Note: Even if \"dpdata\" has already been installed, the package named \"dpdata\" in the current directory is imported first."
   ]
  },
  {
   "cell_type": "markdown",
   "metadata": {},
   "source": [
    "## Table of contents\n",
    "\n",
    "The demonstration with ABACUS from [DeePMD-kit Quick Start Tutorial](https://docs.deepmodeling.com/projects/deepmd/en/master/getting-started/quick_start.html)\n",
    "\n",
    "The demonstration with OpenMX\n",
    "1. [Get DFT data](#scrollTo=zEltPNkLuLz6) \n",
    "2. [Data preparation](#scrollTo=G-laa4YqQRji)\n",
    "3. [Prepare input script](#scrollTo=G-laa4YqQRji)\n",
    "4. [Train a model](#scrollTo=G-laa4YqQRji)\n",
    "5. [Test a model](#scrollTo=G-laa4YqQRji)\n",
    "6. [Run MD with ASE](#scrollTo=G-laa4YqQRji)\n",
    "\n",
    "【Example1】H2O\n",
    "\n",
    "1. [Get DFT data](#scrollTo=zEltPNkLuLz6) \n",
    "1. [Data preparation](#scrollTo=G-laa4YqQRji)\n",
    "1. [Prepare input script](#scrollTo=G-laa4YqQRji)\n",
    "1. [Train a model](#scrollTo=G-laa4YqQRji)\n",
    "1. [Test a model](#scrollTo=G-laa4YqQRji)\n",
    "1. [Run MD with ASE](#scrollTo=G-laa4YqQRji)\n",
    "\n",
    "【Example2】Cdia\n",
    "\n",
    "1. [Get DFT data](#scrollTo=zEltPNkLuLz6) \n",
    "1. [Data preparation](#scrollTo=G-laa4YqQRji)\n",
    "1. [Prepare input script](#scrollTo=G-laa4YqQRji)\n",
    "1. [Train a model](#scrollTo=G-laa4YqQRji)\n",
    "1. [Test a model](#scrollTo=G-laa4YqQRji)\n",
    "1. [Run MD with ASE](#scrollTo=G-laa4YqQRji)\n",
    "\n",
    "【Known problems】\n",
    "\n",
    "【Linkage to tools】\n",
    "\n",
    "【Reference】"
   ]
  },
  {
   "cell_type": "markdown",
   "metadata": {},
   "source": [
    "## The demonstration with ABACUS from [DeePMD-kit Quick Start Tutorial](https://docs.deepmodeling.com/projects/deepmd/en/master/getting-started/quick_start.html)\n",
    "\n",
    "### First, plot bond length and angles in the data from ABACUS."
   ]
  },
  {
   "cell_type": "code",
   "execution_count": null,
   "metadata": {},
   "outputs": [],
   "source": [
    "### ABACUS data plot ###\n",
    "data=np.genfromtxt(\"abacus.txt\")\n",
    "\n",
    "fig=plt.figure(figsize=(10,5))\n",
    "\n",
    "ax1 = fig.add_subplot(2, 1, 1)\n",
    "# plt.xlim(1000,2000)\n",
    "ax1.set_ylabel('length [Ang]')  # y axis label\n",
    "ax1.axhline(1.09,color=\"lightblue\",linestyle=\"--\")\n",
    "ax1.plot(data[:,0], data[:,1], color=\"blue\")\n",
    "\n",
    "ax2 = fig.add_subplot(2, 1, 2)\n",
    "# plt.xlim(1000,2000)\n",
    "ax2.set_xlabel(\"step\")\n",
    "ax2.set_ylabel('angle [deg]')  # y axis label\n",
    "ax2.axhline(109.5,color=\"lightgreen\",linestyle=\"--\")\n",
    "ax2.plot(data[:,0], data[:,4], color=\"green\")\n",
    "\n",
    "print(f\"length mean value = {data[:,1].mean():1.2f}, angle mean value = {data[:,4].mean():3.2f}\")\n",
    "# plt.savefig(\"abacus.png\")\n",
    "plt.show()"
   ]
  },
  {
   "cell_type": "code",
   "execution_count": null,
   "metadata": {},
   "outputs": [],
   "source": [
    "# load data of abacus/md format\n",
    "data = dpdata.LabeledSystem(\"00.data/abacus_md\", fmt=\"abacus/md\")\n",
    "print(\"# the data contains %d frames\" % len(data))\n",
    "\n",
    "# random choose 40 index for validation_data\n",
    "index_validation = np.random.choice(201, size=40, replace=False)\n",
    "\n",
    "# other indexes are training_data\n",
    "index_training = list(set(range(201)) - set(index_validation))\n",
    "data_training = data.sub_system(index_training)\n",
    "data_validation = data.sub_system(index_validation)\n",
    "\n",
    "# all training data put into directory:\"training_data\"\n",
    "data_training.to_deepmd_npy(\"00.data/abacus_md/training_data\")\n",
    "\n",
    "# all validation data put into directory:\"validation_data\"\n",
    "data_validation.to_deepmd_npy(\"00.data/abacus_md/validation_data\")\n",
    "\n",
    "print(\"# the training data contains %d frames\" % len(data_training))\n",
    "print(\"# the validation data contains %d frames\" % len(data_validation))"
   ]
  },
  {
   "cell_type": "code",
   "execution_count": null,
   "metadata": {},
   "outputs": [],
   "source": [
    "! dp neighbor-stat -s 00.data/abacus_md -r 6.0 -t H C"
   ]
  },
  {
   "cell_type": "code",
   "execution_count": null,
   "metadata": {},
   "outputs": [],
   "source": [
    "! bash train.sh"
   ]
  },
  {
   "cell_type": "code",
   "execution_count": null,
   "metadata": {},
   "outputs": [],
   "source": [
    "with open(\"01.train/lcurve.out\") as f:\n",
    "    headers = f.readline().split()[1:]\n",
    "lcurve = pd.DataFrame(np.loadtxt(\"01.train/lcurve.out\"), columns=headers)\n",
    "legends = [\"rmse_e_val\", \"rmse_e_trn\", \"rmse_f_val\", \"rmse_f_trn\"]\n",
    "legends = [\"rmse_e_val\", \"rmse_e_trn\", \"rmse_f_val\", \"rmse_f_trn\"]\n",
    "for legend in legends:\n",
    "    plt.loglog(lcurve[\"step\"], lcurve[legend], label=legend)\n",
    "#     plt.plot(lcurve[\"step\"], lcurve[legend], label=legend)\n",
    "plt.legend()\n",
    "plt.xlabel(\"Training steps\")\n",
    "plt.ylabel(\"Loss\")\n",
    "plt.show()"
   ]
  },
  {
   "cell_type": "code",
   "execution_count": null,
   "metadata": {},
   "outputs": [],
   "source": [
    "training_systems = dpdata.LabeledSystem(f\"00.data/abacus_md/training_data\", fmt=\"deepmd/npy\")\n",
    "\n",
    "predict = training_systems.predict(f\"01.train/graph.pb\")"
   ]
  },
  {
   "cell_type": "markdown",
   "metadata": {},
   "source": [
    "As shown later, ABACUS data contains \"virials\", but OpenMX doesn't."
   ]
  },
  {
   "cell_type": "code",
   "execution_count": null,
   "metadata": {},
   "outputs": [],
   "source": [
    "training_systems"
   ]
  },
  {
   "cell_type": "code",
   "execution_count": null,
   "metadata": {},
   "outputs": [],
   "source": [
    "plt.figure(figsize=(12, 6))\n",
    "\n",
    "# 1つ目のプロット\n",
    "plt.subplot(1, 2, 1)  # 1行2列の1番目のサブプロット\n",
    "plt.scatter(training_systems[\"energies\"], predict[\"energies\"])\n",
    "x_range = np.linspace(plt.xlim()[0], plt.xlim()[1])\n",
    "plt.plot(x_range, x_range, \"r--\", linewidth=0.25)\n",
    "plt.xlabel(\"Energy of DFT\")\n",
    "plt.ylabel(\"Energy predicted by deep potential\")\n",
    "plt.title('Scatter Plot of Energies')\n",
    "\n",
    "# 2つ目のプロット\n",
    "plt.subplot(1, 2, 2)  # 1行2列の2番目のサブプロット\n",
    "plt.scatter(training_systems[\"forces\"], predict[\"forces\"])\n",
    "x_range = np.linspace(plt.xlim()[0], plt.xlim()[1])\n",
    "plt.plot(x_range, x_range, \"r--\", linewidth=0.25)\n",
    "plt.xlabel(\"Force of DFT\")\n",
    "plt.ylabel(\"Force predicted by deep potential\")\n",
    "plt.title('Scatter Plot of Forces')\n",
    "\n",
    "# レイアウト調整\n",
    "plt.tight_layout()\n",
    "\n",
    "# プロットの表示\n",
    "plt.show()\n"
   ]
  },
  {
   "cell_type": "code",
   "execution_count": null,
   "metadata": {},
   "outputs": [],
   "source": [
    "if os.path.exists(f\"log/abacus_nn.log\"):\n",
    "    os.remove(f\"log/abacus_nn.log\")\n",
    "\n",
    "! python3 CH4_MD.py > abacus_nn.txt"
   ]
  },
  {
   "cell_type": "code",
   "execution_count": null,
   "metadata": {},
   "outputs": [],
   "source": [
    "filename=\"abacus_nn\"\n",
    "\n",
    "df = pd.read_csv(\n",
    "    f\"log/{filename}.log\",\n",
    "    delim_whitespace=True,\n",
    "    names=[\"Time[ps]\", \"Etot/N[eV]\", \"Epot/N[eV]\", \"Ekin/N[eV]\", \"T[K]\"],\n",
    "    skiprows=1,\n",
    "    header=None,\n",
    ")\n",
    "df"
   ]
  },
  {
   "cell_type": "code",
   "execution_count": null,
   "metadata": {},
   "outputs": [],
   "source": [
    "fig = plt.figure(figsize=(10, 5))\n",
    "\n",
    "ax1 = fig.add_subplot(4, 1, 1)\n",
    "ax1.set_xticklabels([])  # x axis label\n",
    "ax1.set_ylabel('Tot E (eV)')  # y axis label\n",
    "ax1.plot(df[\"Time[ps]\"], df[\"Etot/N[eV]\"], color=\"blue\",alpha=0.5)\n",
    "\n",
    "ax2 = fig.add_subplot(4, 1, 2)\n",
    "ax2.set_xticklabels([])  # x axis label\n",
    "ax2.set_ylabel('P.E. (eV)')  # y axis label\n",
    "ax2.plot(df[\"Time[ps]\"], df[\"Epot/N[eV]\"], color=\"green\",alpha=0.5)\n",
    "\n",
    "ax3 = fig.add_subplot(4, 1, 3)\n",
    "ax3.set_xticklabels([])  # x axis label\n",
    "ax3.set_ylabel('K.E. (eV)')  # y axis label\n",
    "ax3.set_ylim([0.0, 0.1])\n",
    "ax3.plot(df[\"Time[ps]\"], df[\"Ekin/N[eV]\"], color=\"orange\",alpha=0.5)\n",
    "\n",
    "ax4 = fig.add_subplot(4, 1, 4)\n",
    "ax4.set_xlabel('time (ps)')  # x axis label\n",
    "ax4.set_ylabel('Temp. (K)')  # y axis label\n",
    "ax4.plot(df[\"Time[ps]\"], df[\"T[K]\"], color=\"red\",alpha=0.5)\n",
    "ax4.set_ylim([100., 400])\n",
    "\n",
    "fig.suptitle(\"Time evolution of total, potential, and kinetic energies, and temperature in NVT.\", y=0)\n",
    "\n",
    "plt.show()"
   ]
  },
  {
   "cell_type": "code",
   "execution_count": null,
   "metadata": {},
   "outputs": [],
   "source": [
    "data=np.genfromtxt(\"abacus_nn.txt\")\n",
    "\n",
    "fig=plt.figure(figsize=(10,5))\n",
    "\n",
    "ax1 = fig.add_subplot(2, 1, 1)\n",
    "# plt.xlim(200,800)\n",
    "ax1.set_ylabel('length [Ang]')  # y axis label\n",
    "ax1.axhline(1.09,color=\"lightblue\",linestyle=\"--\")\n",
    "ax1.plot(data[:,0], data[:,1], color=\"blue\")\n",
    "\n",
    "ax2 = fig.add_subplot(2, 1, 2)\n",
    "# plt.xlim(200,800)\n",
    "ax2.set_xlabel(\"step\")\n",
    "ax2.set_ylabel('angle [deg]')  # y axis label\n",
    "ax2.axhline(109.5,color=\"lightgreen\",linestyle=\"--\")\n",
    "ax2.plot(data[:,0], data[:,5], color=\"green\")\n",
    "\n",
    "print(f\"length mean value = {data[20:,1].mean():1.2f}, angle mean value = {data[20:,5].mean():3.2f}\")\n",
    "# plt.savefig(\"geometry/abacus_nn.png\")\n",
    "plt.show()"
   ]
  },
  {
   "cell_type": "markdown",
   "metadata": {},
   "source": [
    "## The demonstration with OpenMX\n",
    "Compare learning results from ABCUS and OpenMX to verify that the DeePMD-kit is functioning properly. (not contain \"virials\")"
   ]
  },
  {
   "cell_type": "markdown",
   "metadata": {},
   "source": [
    "### 1.Get DFT data\n",
    "Place the results of calculations by OpenMX in the directory named `00.data`."
   ]
  },
  {
   "cell_type": "markdown",
   "metadata": {},
   "source": [
    "Input file “CH4.dat ”:\n",
    "```\n",
    "\n",
    "#\n",
    "# MD or Geometry Optimization\n",
    "#\n",
    "\n",
    "MD.Type                  NVT_NH        # Nomd|Opt|NVE|NVT_VS|NVT_NH\n",
    "MD.maxIter                  200        # default=1\n",
    "MD.TimeStep                 1.0        # default=0.5 (fs)\n",
    "NH.Mass.HeatBath           30.0        # default = 20.0\n",
    "\n",
    "<MD.TempControl\n",
    "  2\n",
    "  1    300.0\n",
    "  100  300.0\n",
    "MD.TempControl>\n",
    "```"
   ]
  },
  {
   "cell_type": "code",
   "execution_count": null,
   "metadata": {},
   "outputs": [],
   "source": [
    "### OpenMX data plot ###\n",
    "data=np.genfromtxt(\"openmx.txt\")\n",
    "\n",
    "fig=plt.figure(figsize=(10,5))\n",
    "\n",
    "ax1 = fig.add_subplot(2, 1, 1)\n",
    "ax1.set_ylabel('length [Ang]')  # y axis label\n",
    "ax1.axhline(1.09,color=\"lightblue\",linestyle=\"--\")\n",
    "ax1.plot(data[:,0], data[:,1], color=\"blue\")\n",
    "\n",
    "ax2 = fig.add_subplot(2, 1, 2)\n",
    "ax2.set_xlabel(\"step\")\n",
    "ax2.set_ylabel('angle [deg]')  # y axis label\n",
    "ax2.axhline(109.5,color=\"lightgreen\",linestyle=\"--\")\n",
    "ax2.plot(data[:,0], data[:,5], color=\"green\")\n",
    "\n",
    "print(f\"length mean value = {data[:,1].mean():1.2f}, angle mean value = {data[:,5].mean():3.2f}\")\n",
    "# plt.savefig(\"geometry/openmx.png\")\n",
    "plt.show()"
   ]
  },
  {
   "cell_type": "markdown",
   "metadata": {},
   "source": [
    "### 2.Data preparation"
   ]
  },
  {
   "cell_type": "markdown",
   "metadata": {},
   "source": [
    "The variable named label is the number which identifies data directories."
   ]
  },
  {
   "cell_type": "code",
   "execution_count": null,
   "metadata": {},
   "outputs": [],
   "source": [
    "label=1"
   ]
  },
  {
   "cell_type": "code",
   "execution_count": null,
   "metadata": {},
   "outputs": [],
   "source": [
    "data = dpdata.LabeledSystem(f'{label}0.data/Methane', fmt = 'openmx')\n",
    "print('# the data contains %d frames' % len(data))\n",
    "\n",
    "# random choose 40 index for validation_data\n",
    "index_validation = np.random.choice(len(data),size=40,replace=False)     \n",
    "\n",
    "# other indexes are training_data\n",
    "index_training = list(set(range(len(data)))-set(index_validation))       \n",
    "data_training = data.sub_system(index_training)\n",
    "data_validation = data.sub_system(index_validation)\n",
    "\n",
    "# all training data put into directory:\"training_data\" \n",
    "data_training.to_deepmd_npy(f'{label}0.data/training_data')      \n",
    "\n",
    "# all validation data put into directory:\"validation_data\"\n",
    "data_validation.to_deepmd_npy(f'{label}0.data/validation_data')\n",
    "\n",
    "print('# the training data contains %d frames' % len(data_training)) \n",
    "print('# the validation data contains %d frames' % len(data_validation))"
   ]
  },
  {
   "cell_type": "code",
   "execution_count": null,
   "metadata": {},
   "outputs": [],
   "source": [
    "training_systems = dpdata.LabeledSystem(f\"{label}0.data/training_data\", fmt=\"deepmd/npy\")"
   ]
  },
  {
   "cell_type": "code",
   "execution_count": null,
   "metadata": {},
   "outputs": [],
   "source": [
    "training_systems # not include virials"
   ]
  },
  {
   "cell_type": "markdown",
   "metadata": {},
   "source": [
    "### 3.Prepare input script"
   ]
  },
  {
   "cell_type": "markdown",
   "metadata": {},
   "source": [
    "Input file “input.json ”:\n",
    "```\n",
    "\"model\": {\n",
    "        \"type_map\":\t[\"H\", \"C\"],\n",
    "        \"descriptor\" :{\n",
    "            \"type\":\t\t\"se_e2_a\",\n",
    "            \"sel\":\t\t\"auto\",\n",
    "            \"rcut_smth\":\t0.50,\n",
    "            \"rcut\":\t\t6.00,\n",
    "            \"neuron\":\t\t[25, 50, 100],\n",
    "            \"resnet_dt\":\tfalse,\n",
    "            \"axis_neuron\":\t16,\n",
    "            \"seed\":\t\t1,\n",
    "            \"_comment\":\t\t\" that's all\"\n",
    "        },\n",
    "        \"fitting_net\" : {\n",
    "            \"neuron\":\t\t[240, 240, 240],\n",
    "            \"resnet_dt\":\ttrue,\n",
    "            \"seed\":\t\t1,\n",
    "            \"_comment\":\t\t\" that's all\"\n",
    "        },\n",
    "```"
   ]
  },
  {
   "cell_type": "markdown",
   "metadata": {},
   "source": [
    "### 4.Train a model\n",
    "After the training script is prepared, we can start the training with DeePMD-kit by simply running"
   ]
  },
  {
   "cell_type": "code",
   "execution_count": null,
   "metadata": {},
   "outputs": [],
   "source": [
    "! dp neighbor-stat -s 10.data -r 6.0 -t H C"
   ]
  },
  {
   "cell_type": "code",
   "execution_count": null,
   "metadata": {},
   "outputs": [],
   "source": [
    "### Execute the deepmd-kit commands in sequence.　###\n",
    "! bash train.sh"
   ]
  },
  {
   "cell_type": "code",
   "execution_count": null,
   "metadata": {},
   "outputs": [],
   "source": [
    "with open(f\"{label}1.train/lcurve.out\") as f:\n",
    "      headers = f.readline().split()[1:]\n",
    "lcurve = pd.DataFrame(np.loadtxt(f\"{label}1.train/lcurve.out\"), columns=headers)\n",
    "legends = [\"rmse_e_val\", \"rmse_e_trn\", \"rmse_f_val\", \"rmse_f_trn\"]\n",
    "for legend in legends:\n",
    "      plt.loglog(lcurve[\"step\"], lcurve[legend], label=legend)\n",
    "plt.legend()\n",
    "plt.xlabel(\"Training steps\")\n",
    "plt.ylabel(\"Loss\")\n",
    "plt.show()"
   ]
  },
  {
   "cell_type": "markdown",
   "metadata": {},
   "source": [
    "### 5.test a model\n",
    "The terminal should display the following"
   ]
  },
  {
   "cell_type": "markdown",
   "metadata": {},
   "source": [
    "```\n",
    "DEEPMD INFO    # ---------------output of dp test--------------- \n",
    "DEEPMD INFO    # testing system : ../00.data/validation_data\n",
    "DEEPMD INFO    # number of test data : 40 \n",
    "DEEPMD INFO    Energy MAE         : 6.695204e-02 eV\n",
    "DEEPMD INFO    Energy RMSE        : 8.683650e-02 eV\n",
    "DEEPMD INFO    Energy MAE/Natoms  : 3.719558e-03 eV\n",
    "DEEPMD INFO    Energy RMSE/Natoms : 4.824250e-03 eV\n",
    "DEEPMD INFO    Force  MAE         : 2.773996e-01 eV/A\n",
    "DEEPMD INFO    Force  RMSE        : 3.574003e-01 eV/A\n",
    "DEEPMD INFO    Virial MAE         : 3.173318e+00 eV\n",
    "DEEPMD INFO    Virial RMSE        : 6.770684e+00 eV\n",
    "DEEPMD INFO    Virial MAE/Natoms  : 1.762954e-01 eV\n",
    "DEEPMD INFO    Virial RMSE/Natoms : 3.761491e-01 eV\n",
    "DEEPMD INFO    # ----------------------------------------------- \n",
    "```"
   ]
  },
  {
   "cell_type": "code",
   "execution_count": null,
   "metadata": {},
   "outputs": [],
   "source": [
    "training_systems = dpdata.LabeledSystem(f\"{label}0.data/training_data\", fmt=\"deepmd/npy\")\n",
    "\n",
    "predict = training_systems.predict(f\"{label}1.train/graph.pb\")"
   ]
  },
  {
   "cell_type": "code",
   "execution_count": null,
   "metadata": {},
   "outputs": [],
   "source": [
    "training_systems"
   ]
  },
  {
   "cell_type": "code",
   "execution_count": null,
   "metadata": {},
   "outputs": [],
   "source": [
    "plt.figure(figsize=(12, 6))\n",
    "\n",
    "# 1つ目のプロット\n",
    "plt.subplot(1, 2, 1)  # 1行2列の1番目のサブプロット\n",
    "plt.scatter(training_systems[\"energies\"], predict[\"energies\"])\n",
    "x_range = np.linspace(plt.xlim()[0], plt.xlim()[1])\n",
    "plt.plot(x_range, x_range, \"r--\", linewidth=0.25)\n",
    "plt.xlabel(\"Energy of DFT\")\n",
    "plt.ylabel(\"Energy predicted by deep potential\")\n",
    "plt.title('Scatter Plot of Energies')\n",
    "\n",
    "# 2つ目のプロット\n",
    "plt.subplot(1, 2, 2)  # 1行2列の2番目のサブプロット\n",
    "plt.scatter(training_systems[\"forces\"], predict[\"forces\"])\n",
    "x_range = np.linspace(plt.xlim()[0], plt.xlim()[1])\n",
    "plt.plot(x_range, x_range, \"r--\", linewidth=0.25)\n",
    "plt.xlabel(\"Force of DFT\")\n",
    "plt.ylabel(\"Force predicted by deep potential\")\n",
    "plt.title('Scatter Plot of Forces')\n",
    "\n",
    "# レイアウト調整\n",
    "plt.tight_layout()\n",
    "\n",
    "# プロットの表示\n",
    "plt.show()\n"
   ]
  },
  {
   "cell_type": "markdown",
   "metadata": {},
   "source": [
    "### 6.Run MD with ASE"
   ]
  },
  {
   "cell_type": "code",
   "execution_count": null,
   "metadata": {},
   "outputs": [],
   "source": [
    "filename=\"openmx_nn\""
   ]
  },
  {
   "cell_type": "code",
   "execution_count": null,
   "metadata": {},
   "outputs": [],
   "source": [
    "if os.path.exists(f\"log/{filename}.log\"):\n",
    "    os.remove(f\"log/{filename}.log\")\n",
    "\n",
    "! python3 CH4_MD.py > openmx_nn.txt"
   ]
  },
  {
   "cell_type": "code",
   "execution_count": null,
   "metadata": {},
   "outputs": [],
   "source": [
    "df = pd.read_csv(\n",
    "    f\"log/{filename}.log\",\n",
    "    delim_whitespace=True,\n",
    "    names=[\"Time[ps]\", \"Etot/N[eV]\", \"Epot/N[eV]\", \"Ekin/N[eV]\", \"T[K]\"],\n",
    "    skiprows=1,\n",
    "    header=None,\n",
    ")\n",
    "df"
   ]
  },
  {
   "cell_type": "code",
   "execution_count": null,
   "metadata": {},
   "outputs": [],
   "source": [
    "fig = plt.figure(figsize=(10, 5))\n",
    "\n",
    "ax1 = fig.add_subplot(4, 1, 1)\n",
    "ax1.set_xticklabels([])  # x axis label\n",
    "ax1.set_ylabel('Tot E (eV)')  # y axis label\n",
    "ax1.plot(df[\"Time[ps]\"], df[\"Etot/N[eV]\"], color=\"blue\",alpha=0.5)\n",
    "\n",
    "ax2 = fig.add_subplot(4, 1, 2)\n",
    "ax2.set_xticklabels([])  # x axis label\n",
    "ax2.set_ylabel('P.E. (eV)')  # y axis label\n",
    "ax2.plot(df[\"Time[ps]\"], df[\"Epot/N[eV]\"], color=\"green\",alpha=0.5)\n",
    "\n",
    "ax3 = fig.add_subplot(4, 1, 3)\n",
    "ax3.set_xticklabels([])  # x axis label\n",
    "ax3.set_ylabel('K.E. (eV)')  # y axis label\n",
    "ax3.set_ylim([0.0, 0.1])\n",
    "ax3.plot(df[\"Time[ps]\"], df[\"Ekin/N[eV]\"], color=\"orange\",alpha=0.5)\n",
    "\n",
    "ax4 = fig.add_subplot(4, 1, 4)\n",
    "ax4.set_xlabel('time (ps)')  # x axis label\n",
    "ax4.set_ylabel('Temp. (K)')  # y axis label\n",
    "ax4.plot(df[\"Time[ps]\"], df[\"T[K]\"], color=\"red\",alpha=0.5)\n",
    "ax4.set_ylim([100., 400])\n",
    "\n",
    "fig.suptitle(\"Time evolution of total, potential, and kinetic energies, and temperature in NVT.\", y=0)\n",
    "\n",
    "plt.show()"
   ]
  },
  {
   "cell_type": "code",
   "execution_count": null,
   "metadata": {},
   "outputs": [],
   "source": [
    "data=np.genfromtxt(f\"{filename}.txt\")\n",
    "\n",
    "fig=plt.figure(figsize=(10,5))\n",
    "\n",
    "ax1 = fig.add_subplot(2, 1, 1)\n",
    "# plt.xlim(200,800)\n",
    "ax1.set_ylabel('length [Ang]')  # y axis label\n",
    "ax1.axhline(1.09,color=\"lightblue\",linestyle=\"--\")\n",
    "ax1.plot(data[:,0], data[:,1], color=\"blue\")\n",
    "\n",
    "ax2 = fig.add_subplot(2, 1, 2)\n",
    "# plt.xlim(200,800)\n",
    "ax2.set_xlabel(\"step\")\n",
    "ax2.set_ylabel('angle [deg]')  # y axis label\n",
    "ax2.axhline(109.5,color=\"lightgreen\",linestyle=\"--\")\n",
    "ax2.plot(data[:,0], data[:,4], color=\"green\")\n",
    "\n",
    "print(f\"length mean value = {data[20:,1].mean():1.2f}, angle mean value = {data[20:,4].mean():3.2f}\")\n",
    "# plt.savefig(f\"geometry/{filename}.png\")\n",
    "plt.show()"
   ]
  },
  {
   "cell_type": "markdown",
   "metadata": {},
   "source": [
    "## 【Example1】H2O\n",
    "There is no comparison with ABACUS."
   ]
  },
  {
   "cell_type": "markdown",
   "metadata": {},
   "source": [
    "### 1.Get DFT data\n",
    "\n",
    "The table shows bond length and angles mean value during MD.\n",
    "|                  | reference | calculation | Error(%) |\n",
    "|------------------|-----------|-------------|----------|\n",
    "| bond length (Å)  | 0.9584    | 0.970       |    1.21  |\n",
    "| bond angle (deg) | 104.45    | 103.62      |   0.62231|"
   ]
  },
  {
   "cell_type": "code",
   "execution_count": null,
   "metadata": {},
   "outputs": [],
   "source": [
    "data=np.genfromtxt(f\"H2O.txt\")\n",
    "\n",
    "fig=plt.figure(figsize=(10,5))\n",
    "\n",
    "ax1 = fig.add_subplot(2, 1, 1)\n",
    "# plt.xlim(200,800)\n",
    "ax1.set_ylabel('length [Ang]')  # y axis label\n",
    "ax1.axhline(0.957,color=\"lightblue\",linestyle=\"--\")\n",
    "ax1.plot(data[:,0], data[:,1])\n",
    "# ax1.plot(data[:,0], data[:,2])\n",
    "# ax1.plot(data[:,0], data[:,3])\n",
    "\n",
    "ax2 = fig.add_subplot(2, 1, 2)\n",
    "# plt.xlim(200,800)\n",
    "ax2.set_xlabel(\"step\")\n",
    "ax2.set_ylabel('angle [deg]')  # y axis label\n",
    "ax2.axhline(104.5,color=\"lightgreen\",linestyle=\"--\")\n",
    "ax2.plot(data[:,0], data[:,3],color=\"green\")\n",
    "# ax2.plot(data[:,0], data[:,5])\n",
    "# ax2.plot(data[:,0], data[:,6])\n",
    "\n",
    "# plt.savefig(f\"geometry/H2O.png\")\n",
    "print(f\"length mean value = {data[100:,1].mean():1.2f}, angle mean value = {data[100:,3].mean():3.2f}\")\n",
    "plt.show()"
   ]
  },
  {
   "cell_type": "markdown",
   "metadata": {},
   "source": [
    "### 2.Data preparation"
   ]
  },
  {
   "cell_type": "code",
   "execution_count": null,
   "metadata": {},
   "outputs": [],
   "source": [
    "label=2"
   ]
  },
  {
   "cell_type": "code",
   "execution_count": null,
   "metadata": {},
   "outputs": [],
   "source": [
    "data = dpdata.LabeledSystem(f'{label}0.data/H2O', fmt = 'openmx') \n",
    "# data = dpdata.LabeledSystem('10.data/traj6', fmt = 'qe/cp/traj') \n",
    "print('# the data contains %d frames' % len(data))\n",
    "# random choose 40 index for validation_data\n",
    "index_validation = np.random.choice(len(data),size=40,replace=False)     \n",
    "# other indexes are training_data\n",
    "index_training = list(set(range(len(data)))-set(index_validation))       \n",
    "data_training = data.sub_system(index_training)\n",
    "data_validation = data.sub_system(index_validation)\n",
    "# all training data put into directory:\"training_data\" \n",
    "data_training.to_deepmd_npy(f'{label}0.data/training_data')               \n",
    "# all validation data put into directory:\"validation_data\"\n",
    "data_validation.to_deepmd_npy(f'{label}0.data/validation_data')           \n",
    "print('# the training data contains %d frames' % len(data_training)) \n",
    "print('# the validation data contains %d frames' % len(data_validation)) "
   ]
  },
  {
   "cell_type": "code",
   "execution_count": null,
   "metadata": {},
   "outputs": [],
   "source": [
    "training_systems = dpdata.LabeledSystem(f\"{label}0.data/training_data\", fmt=\"deepmd/npy\")\n",
    "training_systems"
   ]
  },
  {
   "cell_type": "markdown",
   "metadata": {},
   "source": [
    "### 3.Prepare input script"
   ]
  },
  {
   "cell_type": "code",
   "execution_count": null,
   "metadata": {},
   "outputs": [],
   "source": [
    "# ! dp neighbor-stat -s 20.data -r 6.0 -t O H\n",
    "! bash train.sh"
   ]
  },
  {
   "cell_type": "markdown",
   "metadata": {},
   "source": [
    "### 4.Train a model"
   ]
  },
  {
   "cell_type": "code",
   "execution_count": null,
   "metadata": {},
   "outputs": [],
   "source": [
    "with open(f\"{label}1.train/lcurve.out\") as f:\n",
    "      headers = f.readline().split()[1:]\n",
    "lcurve = pd.DataFrame(np.loadtxt(f\"{label}1.train/lcurve.out\"), columns=headers)\n",
    "legends = [\"rmse_e_val\", \"rmse_e_trn\", \"rmse_f_val\", \"rmse_f_trn\"]\n",
    "for legend in legends:\n",
    "      plt.loglog(lcurve[\"step\"], lcurve[legend], label=legend)\n",
    "plt.legend()\n",
    "plt.xlabel(\"Training steps\")\n",
    "plt.ylabel(\"Loss\")\n",
    "plt.show()"
   ]
  },
  {
   "cell_type": "markdown",
   "metadata": {},
   "source": [
    "### 5.test a model"
   ]
  },
  {
   "cell_type": "code",
   "execution_count": null,
   "metadata": {},
   "outputs": [],
   "source": [
    "training_systems = dpdata.LabeledSystem(f\"{label}0.data/training_data\", fmt=\"deepmd/npy\")\n",
    "\n",
    "predict = training_systems.predict(f\"{label}1.train/graph.pb\")"
   ]
  },
  {
   "cell_type": "code",
   "execution_count": null,
   "metadata": {},
   "outputs": [],
   "source": [
    "training_systems[\"energies\"]"
   ]
  },
  {
   "cell_type": "code",
   "execution_count": null,
   "metadata": {},
   "outputs": [],
   "source": [
    "plt.figure(figsize=(12, 6))\n",
    "\n",
    "# 1つ目のプロット\n",
    "plt.subplot(1, 2, 1)  # 1行2列の1番目のサブプロット\n",
    "plt.scatter(training_systems[\"energies\"], predict[\"energies\"])\n",
    "x_range = np.linspace(plt.xlim()[0], plt.xlim()[1])\n",
    "plt.plot(x_range, x_range, \"r--\", linewidth=0.25)\n",
    "plt.xlabel(\"Energy of DFT\")\n",
    "plt.ylabel(\"Energy predicted by deep potential\")\n",
    "plt.title('Scatter Plot of Energies')\n",
    "\n",
    "# 2つ目のプロット\n",
    "plt.subplot(1, 2, 2)  # 1行2列の2番目のサブプロット\n",
    "plt.scatter(training_systems[\"forces\"], predict[\"forces\"])\n",
    "x_range = np.linspace(plt.xlim()[0], plt.xlim()[1])\n",
    "plt.plot(x_range, x_range, \"r--\", linewidth=0.25)\n",
    "plt.xlabel(\"Force of DFT\")\n",
    "plt.ylabel(\"Force predicted by deep potential\")\n",
    "plt.title('Scatter Plot of Forces')\n",
    "\n",
    "# レイアウト調整\n",
    "plt.tight_layout()\n",
    "\n",
    "# プロットの表示\n",
    "plt.show()\n"
   ]
  },
  {
   "cell_type": "markdown",
   "metadata": {},
   "source": [
    "### 6.Run MD with ASE"
   ]
  },
  {
   "cell_type": "code",
   "execution_count": null,
   "metadata": {},
   "outputs": [],
   "source": [
    "filename=\"H2O_nn\""
   ]
  },
  {
   "cell_type": "code",
   "execution_count": null,
   "metadata": {},
   "outputs": [],
   "source": [
    "if os.path.exists(f\"log/{filename}.log\"):\n",
    "    os.remove(f\"log/{filename}.log\")\n",
    "\n",
    "! python3 H2O_MD.py > H2O_nn.txt"
   ]
  },
  {
   "cell_type": "code",
   "execution_count": null,
   "metadata": {},
   "outputs": [],
   "source": [
    "df = pd.read_csv(\n",
    "    f\"log/{filename}.log\",\n",
    "    delim_whitespace=True,\n",
    "    names=[\"Time[ps]\", \"Etot/N[eV]\", \"Epot/N[eV]\", \"Ekin/N[eV]\", \"T[K]\"],\n",
    "    skiprows=1,\n",
    "    header=None,\n",
    ")\n",
    "df"
   ]
  },
  {
   "cell_type": "code",
   "execution_count": null,
   "metadata": {},
   "outputs": [],
   "source": [
    "fig = plt.figure(figsize=(10, 5))\n",
    "\n",
    "ax1 = fig.add_subplot(4, 1, 1)\n",
    "ax1.set_xticklabels([])  # x axis label\n",
    "ax1.set_ylabel('Tot E (eV)')  # y axis label\n",
    "ax1.plot(df[\"Time[ps]\"], df[\"Etot/N[eV]\"], color=\"blue\",alpha=0.5)\n",
    "\n",
    "ax2 = fig.add_subplot(4, 1, 2)\n",
    "ax2.set_xticklabels([])  # x axis label\n",
    "ax2.set_ylabel('P.E. (eV)')  # y axis label\n",
    "ax2.plot(df[\"Time[ps]\"], df[\"Epot/N[eV]\"], color=\"green\",alpha=0.5)\n",
    "\n",
    "ax3 = fig.add_subplot(4, 1, 3)\n",
    "ax3.set_xticklabels([])  # x axis label\n",
    "ax3.set_ylabel('K.E. (eV)')  # y axis label\n",
    "ax3.set_ylim([0.0, 0.1])\n",
    "ax3.plot(df[\"Time[ps]\"], df[\"Ekin/N[eV]\"], color=\"orange\",alpha=0.5)\n",
    "\n",
    "ax4 = fig.add_subplot(4, 1, 4)\n",
    "ax4.set_xlabel('time (ps)')  # x axis label\n",
    "ax4.set_ylabel('Temp. (K)')  # y axis label\n",
    "ax4.plot(df[\"Time[ps]\"], df[\"T[K]\"], color=\"red\",alpha=0.5)\n",
    "ax4.set_ylim([100., 400])\n",
    "\n",
    "fig.suptitle(\"Time evolution of total, potential, and kinetic energies, and temperature in NVT.\", y=0)\n",
    "\n",
    "plt.show()"
   ]
  },
  {
   "cell_type": "markdown",
   "metadata": {},
   "source": [
    "### 7.Bond length and bond angle\n",
    "\n",
    "|                  | reference | OpenMX calculation | DeePMD calculation |\n",
    "|------------------|-----------|-------------|----------|\n",
    "| bond length (Å)  | 0.9584    | 0.970       |    0.97  |\n",
    "| bond angle (deg) | 104.45    | 103.62      |   103.69|"
   ]
  },
  {
   "cell_type": "code",
   "execution_count": null,
   "metadata": {},
   "outputs": [],
   "source": [
    "data=np.genfromtxt(f\"{filename}.txt\")\n",
    "\n",
    "fig=plt.figure(figsize=(10,5))\n",
    "\n",
    "ax1 = fig.add_subplot(2, 1, 1)\n",
    "# plt.xlim(200,800)\n",
    "ax1.set_ylabel('length [Ang]')  # y axis label\n",
    "ax1.axhline(0.957,color=\"lightblue\",linestyle=\"--\")\n",
    "ax1.plot(data[:,0], data[:,1])\n",
    "# ax1.plot(data[:,0], data[:,2])\n",
    "# ax1.plot(data[:,0], data[:,3])\n",
    "\n",
    "ax2 = fig.add_subplot(2, 1, 2)\n",
    "# plt.xlim(200,800)\n",
    "ax2.set_xlabel(\"step\")\n",
    "ax2.set_ylabel('angle [deg]')  # y axis label\n",
    "ax2.axhline(104.5,color=\"lightgreen\",linestyle=\"--\")\n",
    "ax2.plot(data[:,0], data[:,3],color=\"green\")\n",
    "# ax2.plot(data[:,0], data[:,5])\n",
    "# ax2.plot(data[:,0], data[:,6])\n",
    "\n",
    "# plt.savefig(f\"geometry/{filename}.png\")\n",
    "print(f\"length mean value = {data[:,1].mean():1.2f}, angle mean value = {data[:,3].mean():3.2f}\")\n",
    "plt.show()"
   ]
  },
  {
   "cell_type": "markdown",
   "metadata": {},
   "source": [
    "## 【Known problems】\n",
    "\n",
    "### AssertionError\n",
    "\n",
    "```\n",
    "<Atoms.UnitVectors\n",
    "     -3.5600000     0.0000000     3.5600000\n",
    "      0.0000000     3.5600000     3.5600000\n",
    "     -3.5600000     3.5600000     0.0000000\n",
    "Atoms.UnitVectors>\n",
    "```\n",
    "has no problem, but\n",
    "```\n",
    "<Atoms.UnitVectors\n",
    "     3.5600000     0.0000000     3.5600000\n",
    "     0.0000000     3.5600000     3.5600000\n",
    "     3.5600000     3.5600000     0.0000000\n",
    "Atoms.UnitVectors>\n",
    "```\n",
    "makes a bug.\n",
    "\n",
    "```\n",
    "  File \"/Users/syanase/share/idea2/dpdata/system.py\", line 672, in rot_frame_lower_triangular\n",
    "    assert np.linalg.det(rot) == 1\n",
    "           ^^^^^^^^^^^^^^^^^^^^^^^\n",
    "AssertionError\n",
    "```"
   ]
  },
  {
   "cell_type": "markdown",
   "metadata": {},
   "source": [
    "## 【Linkage to tools】\n",
    "\n",
    "1. [OpenMX](https://www.openmx-square.org/)\n",
    "1. [DeePMD-kit](https://github.com/deepmodeling/deepmd-kit)\n",
    "1. [ASE](https://wiki.fysik.dtu.dk/ase/)\n",
    "\n",
    "## 【Reference】\n",
    "1. [MATLANTIS Atomistic Simulation Tutorial](https://docs.matlantis.com/atomistic-simulation-tutorial/ja/index.html)"
   ]
  }
 ],
 "metadata": {
  "kernelspec": {
   "display_name": "Python 3",
   "language": "python",
   "name": "python3"
  },
  "language_info": {
   "codemirror_mode": {
    "name": "ipython",
    "version": 3
   },
   "file_extension": ".py",
   "mimetype": "text/x-python",
   "name": "python",
   "nbconvert_exporter": "python",
   "pygments_lexer": "ipython3",
   "version": "3.11.5"
  }
 },
 "nbformat": 4,
 "nbformat_minor": 2
}
